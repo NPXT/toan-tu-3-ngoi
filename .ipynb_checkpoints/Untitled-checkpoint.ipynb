{
 "cells": [
  {
   "cell_type": "code",
   "execution_count": 1,
   "id": "4a4e77ec",
   "metadata": {},
   "outputs": [
    {
     "name": "stdout",
     "output_type": "stream",
     "text": [
      " Mời bạn nhập số: 123\n",
      "Số lẻ\n"
     ]
    }
   ],
   "source": [
    "number= float(input(\" Mời bạn nhập số: \"))\n",
    "if number % 2 == 0 :\n",
    "    print(\"Số chẵn\")\n",
    "else :\n",
    "    print(\"Số lẻ\")"
   ]
  },
  {
   "cell_type": "code",
   "execution_count": null,
   "id": "f230e713",
   "metadata": {},
   "outputs": [],
   "source": []
  }
 ],
 "metadata": {
  "kernelspec": {
   "display_name": "Python 3 (ipykernel)",
   "language": "python",
   "name": "python3"
  },
  "language_info": {
   "codemirror_mode": {
    "name": "ipython",
    "version": 3
   },
   "file_extension": ".py",
   "mimetype": "text/x-python",
   "name": "python",
   "nbconvert_exporter": "python",
   "pygments_lexer": "ipython3",
   "version": "3.9.12"
  }
 },
 "nbformat": 4,
 "nbformat_minor": 5
}
